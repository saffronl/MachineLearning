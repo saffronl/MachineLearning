{
 "cells": [
  {
   "cell_type": "markdown",
   "id": "5e4f0979",
   "metadata": {},
   "source": [
    "# 01. Machine Learning Example"
   ]
  },
  {
   "cell_type": "markdown",
   "id": "394bfb27",
   "metadata": {},
   "source": [
    "GitHub:\n",
    "https://github.com/ageron/handson-ml3/blob/main/01_the_machine_learning_landscape.ipynb"
   ]
  },
  {
   "cell_type": "code",
   "execution_count": 29,
   "id": "52a9ae91",
   "metadata": {},
   "outputs": [],
   "source": [
    "import sklearn\n",
    "import pandas as pd\n",
    "import numpy as np\n",
    "import matplotlib.pyplot as plt\n",
    "from sklearn.linear_model import LinearRegression\n",
    "from sklearn.model_selection import train_test_split \n",
    "pd.set_option('display.max_columns', None)"
   ]
  },
  {
   "cell_type": "code",
   "execution_count": 3,
   "id": "efe33925",
   "metadata": {},
   "outputs": [],
   "source": [
    "# This dataframe is the 'life satisfaction' value from 1-10 per GDP per capita (USD)\n",
    "lifesat_df = pd.read_csv(\"Data/lifesat.csv\")"
   ]
  },
  {
   "cell_type": "code",
   "execution_count": 31,
   "id": "e2dec08a",
   "metadata": {},
   "outputs": [],
   "source": [
    "# X axis:\n",
    "X = lifesat_df[[\"GDP per capita (USD)\"]].values\n",
    "\n",
    "# Y axis:\n",
    "y = lifesat_df[[\"Life satisfaction\"]].values"
   ]
  },
  {
   "cell_type": "markdown",
   "id": "e29113b7",
   "metadata": {},
   "source": [
    "#### Visualize the Data"
   ]
  },
  {
   "cell_type": "code",
   "execution_count": 32,
   "id": "3f0526ff",
   "metadata": {},
   "outputs": [
    {
     "data": {
      "image/png": "[encoded data removed]",
      "text/plain": [
       "<Figure size 432x288 with 1 Axes>"
      ]
     },
     "metadata": {
      "needs_background": "light"
     },
     "output_type": "display_data"
    }
   ],
   "source": [
    "# Visualize the data using a scatter plot for each datapoint !\n",
    "lifesat_df.plot(kind='scatter', grid=True,\n",
    "             x=\"GDP per capita (USD)\", y=\"Life satisfaction\")\n",
    "plt.axis([23_500, 62_500, 4, 9])\n",
    "plt.show()"
   ]
  },
  {
   "cell_type": "markdown",
   "id": "2d2a466f",
   "metadata": {},
   "source": [
    "#### Split Data"
   ]
  },
  {
   "cell_type": "code",
   "execution_count": 33,
   "id": "3cd25592",
   "metadata": {},
   "outputs": [],
   "source": [
    "X_train, X_test, y_train, y_test = train_test_split(X, y, test_size=0.2, random_state=0) "
   ]
  },
  {
   "cell_type": "markdown",
   "id": "3727de53",
   "metadata": {},
   "source": [
    "#### Train a Linear Regression Model"
   ]
  },
  {
   "cell_type": "code",
   "execution_count": 34,
   "id": "67fb3c7c",
   "metadata": {},
   "outputs": [
    {
     "data": {
      "text/plain": [
       "LinearRegression()"
      ]
     },
     "execution_count": 34,
     "metadata": {},
     "output_type": "execute_result"
    }
   ],
   "source": [
    "# Select a linear model\n",
    "model = LinearRegression() # LinearRegression model from sklearn\n",
    "\n",
    "# Train the model\n",
    "model.fit(X_train, y_train) # this \"trains\" the model using:\n",
    "# X = Training data\n",
    "# y = Target values\n",
    "# THis is a SUPERVISED model. The target values are known "
   ]
  },
  {
   "cell_type": "markdown",
   "id": "5012b6ec",
   "metadata": {},
   "source": [
    "### Use the model to now predict a new X value from a y value"
   ]
  },
  {
   "cell_type": "code",
   "execution_count": 13,
   "id": "20486326",
   "metadata": {},
   "outputs": [
    {
     "name": "stdout",
     "output_type": "stream",
     "text": [
      "6.301657665080485\n"
     ]
    }
   ],
   "source": [
    "# Make a prediction for Cyprus\n",
    "X_new = [[37_655.2]]  # Cyprus' GDP per capita in 2020\n",
    "Cyprus_sat = model.predict(X_new)[0][0] # outputs [[6.30165767]], use [0][0] to remove the lists.\n",
    "print(Cyprus_sat)"
   ]
  },
  {
   "cell_type": "code",
   "execution_count": 36,
   "id": "46b4a235",
   "metadata": {},
   "outputs": [],
   "source": [
    "# Predict values from the testing set...\n",
    "y_pred = model.predict(X_test)"
   ]
  },
  {
   "cell_type": "markdown",
   "id": "aae03d79",
   "metadata": {},
   "source": [
    "#### Visualize the Model"
   ]
  },
  {
   "cell_type": "code",
   "execution_count": 38,
   "id": "b4d4d597",
   "metadata": {},
   "outputs": [],
   "source": [
    "gdppc_col = \"GDP per capita (USD)\"\n",
    "lifesat_col = \"Life satisfaction\""
   ]
  },
  {
   "cell_type": "code",
   "execution_count": 75,
   "id": "2a280e36",
   "metadata": {},
   "outputs": [
    {
     "data": {
      "image/png": "[encoded data removed]",
      "text/plain": [
       "<Figure size 432x288 with 1 Axes>"
      ]
     },
     "metadata": {
      "needs_background": "light"
     },
     "output_type": "display_data"
    }
   ],
   "source": [
    "plt.scatter(X_train, y_train,color='g') # plots the training data\n",
    "plt.plot(X_test, y_pred,color='k') # plots the linear model line\n",
    "\n",
    "plt.show()"
   ]
  },
  {
   "cell_type": "code",
   "execution_count": null,
   "id": "bf56e706",
   "metadata": {},
   "outputs": [],
   "source": []
  }
 ],
 "metadata": {
  "kernelspec": {
   "display_name": "Python 3",
   "language": "python",
   "name": "python3"
  },
  "language_info": {
   "codemirror_mode": {
    "name": "ipython",
    "version": 3
   },
   "file_extension": ".py",
   "mimetype": "text/x-python",
   "name": "python",
   "nbconvert_exporter": "python",
   "pygments_lexer": "ipython3",
   "version": "3.8.8"
  }
 },
 "nbformat": 4,
 "nbformat_minor": 5
}
